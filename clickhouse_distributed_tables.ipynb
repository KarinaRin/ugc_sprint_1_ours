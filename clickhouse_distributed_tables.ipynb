{
 "cells": [
  {
   "cell_type": "markdown",
   "source": [],
   "metadata": {
    "collapsed": false
   }
  },
  {
   "cell_type": "markdown",
   "source": [
    "# Cоздаем таблицы в clickhouse"
   ],
   "metadata": {
    "collapsed": false
   }
  },
  {
   "cell_type": "markdown",
   "source": [
    "Подключаем клиента"
   ],
   "metadata": {
    "collapsed": false
   }
  },
  {
   "cell_type": "code",
   "execution_count": 1,
   "outputs": [],
   "source": [
    "from clickhouse_driver import Client\n",
    "\n",
    "client = Client(host='localhost')"
   ],
   "metadata": {
    "collapsed": false,
    "ExecuteTime": {
     "end_time": "2023-05-09T13:23:43.367196461Z",
     "start_time": "2023-05-09T13:23:43.239746186Z"
    }
   }
  },
  {
   "cell_type": "markdown",
   "source": [
    "Next, we need to create a table using the Kafka engine to connect to the topic and read data.  The engine will read from the broker at host kafka using topic ‘readings’ and a consumer group name ‘readings consumer_group1’. The input format is CSV.  Note that we omit the ‘date’ column. It’s an alias in the target table that will populate automatically from the ‘time’ column."
   ],
   "metadata": {
    "collapsed": false
   }
  },
  {
   "cell_type": "code",
   "execution_count": 2,
   "outputs": [
    {
     "data": {
      "text/plain": "[]"
     },
     "execution_count": 2,
     "metadata": {},
     "output_type": "execute_result"
    }
   ],
   "source": [
    "create_kafka_engine = \"\"\"\n",
    "CREATE TABLE readings_queue (\n",
    "    readings_id Int32,\n",
    "    time DateTime,\n",
    "    temperature Decimal(5,2)\n",
    ")\n",
    "ENGINE = Kafka\n",
    "SETTINGS kafka_broker_list = 'broker:29092',\n",
    "       kafka_topic_list = 'readings',\n",
    "       kafka_group_name = 'readings_consumer_group1',\n",
    "       kafka_format = 'CSV',\n",
    "       kafka_max_block_size = 1048576;\n",
    "\"\"\"\n",
    "client.execute(create_kafka_engine)"
   ],
   "metadata": {
    "collapsed": false,
    "ExecuteTime": {
     "end_time": "2023-05-09T13:23:52.612157813Z",
     "start_time": "2023-05-09T13:23:52.588429689Z"
    }
   }
  },
  {
   "cell_type": "code",
   "execution_count": 3,
   "outputs": [
    {
     "data": {
      "text/plain": "[]"
     },
     "execution_count": 3,
     "metadata": {},
     "output_type": "execute_result"
    }
   ],
   "source": [
    "create_materialized_view = \"\"\"\n",
    "    CREATE MATERIALIZED VIEW readings_queue_mv TO default.readings AS\n",
    "    SELECT readings_id, time, temperature\n",
    "    FROM readings_queue;\n",
    "\"\"\"\n",
    "client.execute(create_materialized_view)"
   ],
   "metadata": {
    "collapsed": false,
    "ExecuteTime": {
     "end_time": "2023-05-09T13:23:55.316860192Z",
     "start_time": "2023-05-09T13:23:55.306192879Z"
    }
   }
  },
  {
   "cell_type": "markdown",
   "source": [
    "Смотрим доступные таблицы"
   ],
   "metadata": {
    "collapsed": false
   }
  },
  {
   "cell_type": "code",
   "execution_count": 5,
   "outputs": [
    {
     "data": {
      "text/plain": "[('readings',), ('readings_queue',), ('readings_queue_mv',)]"
     },
     "execution_count": 5,
     "metadata": {},
     "output_type": "execute_result"
    }
   ],
   "source": [
    "client.execute('SHOW TABLES FROM default')"
   ],
   "metadata": {
    "collapsed": false,
    "ExecuteTime": {
     "end_time": "2023-05-09T13:23:58.433420468Z",
     "start_time": "2023-05-09T13:23:58.407478944Z"
    }
   }
  },
  {
   "cell_type": "code",
   "execution_count": 6,
   "outputs": [
    {
     "data": {
      "text/plain": "[('readings',)]"
     },
     "execution_count": 6,
     "metadata": {},
     "output_type": "execute_result"
    }
   ],
   "source": [
    "client.execute('SHOW TABLES FROM shard')"
   ],
   "metadata": {
    "collapsed": false,
    "pycharm": {
     "name": "#%%\n"
    }
   }
  },
  {
   "cell_type": "code",
   "execution_count": 7,
   "outputs": [
    {
     "data": {
      "text/plain": "[('readings',)]"
     },
     "execution_count": 7,
     "metadata": {},
     "output_type": "execute_result"
    }
   ],
   "source": [
    "client.execute('SHOW TABLES FROM replica')"
   ],
   "metadata": {
    "collapsed": false,
    "pycharm": {
     "name": "#%%\n"
    }
   }
  },
  {
   "cell_type": "markdown",
   "source": [
    "Проверяем что сейчас данных нет"
   ],
   "metadata": {
    "collapsed": false
   }
  },
  {
   "cell_type": "code",
   "execution_count": 8,
   "outputs": [
    {
     "data": {
      "text/plain": "[]"
     },
     "execution_count": 8,
     "metadata": {},
     "output_type": "execute_result"
    }
   ],
   "source": [
    "get_data_from_clickhouse = \"\"\"\n",
    "SELECT * FROM default.readings\n",
    "\"\"\"\n",
    "\n",
    "client.execute(get_data_from_clickhouse)"
   ],
   "metadata": {
    "collapsed": false,
    "ExecuteTime": {
     "end_time": "2023-05-09T13:27:27.330794690Z",
     "start_time": "2023-05-09T13:27:27.288334378Z"
    }
   }
  },
  {
   "cell_type": "markdown",
   "source": [
    "Чтобы перейти далее, надо добавить данные в брокер сообщений. Смотри README:\n",
    "Заходим внуть контейнера с портом 9092\n",
    "\n",
    "```bash\n",
    "docker ps\n",
    "docker exec -it 1ca379db1a67 bash\n",
    "```\n",
    "\n",
    "В нем отправляем данные в броке\n",
    "\n",
    "kafka-console-producer --broker-list broker:9092 --topic readings <<END\n",
    "4,\"2020-05-16 23:55:44\",14.2\n",
    "5,\"2020-05-16 23:55:45\",20.1\n",
    "6,\"2020-05-16 23:55:51\",12.9\n",
    "END\n"
   ],
   "metadata": {
    "collapsed": false
   }
  },
  {
   "cell_type": "markdown",
   "source": [],
   "metadata": {
    "collapsed": false
   }
  },
  {
   "cell_type": "code",
   "execution_count": 9,
   "outputs": [
    {
     "data": {
      "text/plain": "[(3, datetime.datetime(2020, 5, 16, 23, 55, 51), Decimal('12.9')),\n (1, datetime.datetime(2020, 5, 16, 23, 55, 44), Decimal('14.2')),\n (2, datetime.datetime(2020, 5, 16, 23, 55, 45), Decimal('20.1'))]"
     },
     "execution_count": 9,
     "metadata": {},
     "output_type": "execute_result"
    }
   ],
   "source": [
    "get_data_from_clickhouse = \"\"\"\n",
    "SELECT * FROM readings\n",
    "\"\"\"\n",
    "\n",
    "client.execute(get_data_from_clickhouse)"
   ],
   "metadata": {
    "collapsed": false,
    "ExecuteTime": {
     "end_time": "2023-05-09T13:29:56.253875374Z",
     "start_time": "2023-05-09T13:29:56.242009285Z"
    }
   }
  },
  {
   "cell_type": "markdown",
   "source": [],
   "metadata": {
    "collapsed": false
   }
  },
  {
   "cell_type": "code",
   "execution_count": 1,
   "outputs": [
    {
     "ename": "NameError",
     "evalue": "name 'client' is not defined",
     "output_type": "error",
     "traceback": [
      "\u001B[0;31m---------------------------------------------------------------------------\u001B[0m",
      "\u001B[0;31mNameError\u001B[0m                                 Traceback (most recent call last)",
      "Cell \u001B[0;32mIn[1], line 1\u001B[0m\n\u001B[0;32m----> 1\u001B[0m \u001B[43mclient\u001B[49m\u001B[38;5;241m.\u001B[39mexecute(\u001B[38;5;124m'\u001B[39m\u001B[38;5;124mDROP TABLE  readings_queue_mv\u001B[39m\u001B[38;5;124m'\u001B[39m)\n\u001B[1;32m      2\u001B[0m client\u001B[38;5;241m.\u001B[39mexecute(\u001B[38;5;124m'\u001B[39m\u001B[38;5;124mDROP TABLE  readings_queue\u001B[39m\u001B[38;5;124m'\u001B[39m)\n\u001B[1;32m      3\u001B[0m client\u001B[38;5;241m.\u001B[39mexecute(\u001B[38;5;124m'\u001B[39m\u001B[38;5;124mDROP TABLE  readings\u001B[39m\u001B[38;5;124m'\u001B[39m)\n",
      "\u001B[0;31mNameError\u001B[0m: name 'client' is not defined"
     ]
    }
   ],
   "source": [
    "client.execute('DROP TABLE  readings_queue_mv')\n",
    "client.execute('DROP TABLE  readings_queue')\n",
    "client.execute('DROP TABLE  readings')"
   ],
   "metadata": {
    "collapsed": false,
    "ExecuteTime": {
     "end_time": "2023-05-09T12:52:48.986270749Z",
     "start_time": "2023-05-09T12:52:48.717606692Z"
    }
   }
  }
 ],
 "metadata": {
  "kernelspec": {
   "display_name": "Python 3",
   "language": "python",
   "name": "python3"
  },
  "language_info": {
   "codemirror_mode": {
    "name": "ipython",
    "version": 2
   },
   "file_extension": ".py",
   "mimetype": "text/x-python",
   "name": "python",
   "nbconvert_exporter": "python",
   "pygments_lexer": "ipython2",
   "version": "2.7.6"
  }
 },
 "nbformat": 4,
 "nbformat_minor": 0
}